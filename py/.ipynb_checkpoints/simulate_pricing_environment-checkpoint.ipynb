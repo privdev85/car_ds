{
 "cells": [
  {
   "cell_type": "code",
   "execution_count": 23,
   "metadata": {},
   "outputs": [],
   "source": [
    "import pandas as pd\n",
    "import numpy as np"
   ]
  },
  {
   "cell_type": "code",
   "execution_count": 24,
   "metadata": {},
   "outputs": [],
   "source": [
    "no_cars = 1000\n",
    "\n",
    "mp_prices = list()"
   ]
  },
  {
   "cell_type": "code",
   "execution_count": 84,
   "metadata": {},
   "outputs": [],
   "source": [
    "### Generate mp_prices\n",
    "mp_prices = np.random.normal(loc = 5000, scale = 3000, size = no_cars)\n",
    "mp_prices = np.array([-x if x<0 else x for x in mp_prices])\n",
    "mp_prices = np.array([x * 100 if x<1000 else x for x in mp_prices])\n",
    "\n",
    "### Generate views\n",
    "views = np.around(np.clip(np.random.normal(loc = 15, scale = 20, size = no_cars), a_min = 0, a_max=999), 0)\n",
    "\n",
    "### Generate Watchlist\n",
    "watchlists_pt2 = np.clip(np.random.normal(loc = 0, scale = 2, size = no_cars) - 0.1, 0, 1)\n",
    "watchlists_pt2 = views * watchlists_pt2\n",
    "\n",
    "watchlists = np.around(watchlists_pt2, decimals = 0) "
   ]
  },
  {
   "cell_type": "code",
   "execution_count": 54,
   "metadata": {},
   "outputs": [
    {
     "data": {
      "text/plain": [
       "98226.37479309397"
      ]
     },
     "execution_count": 54,
     "metadata": {},
     "output_type": "execute_result"
    }
   ],
   "source": [
    "### General interdependencies in sales process\n",
    "- more watchlists have strongest impact on proability of selling\n",
    "- more views strong impact on probability of selling\n",
    "- very low watchlist to views ratio could signal problem and very low chance of selling\n",
    "- higher priced cars need more watchlists / views in order to be sold"
   ]
  },
  {
   "cell_type": "code",
   "execution_count": 1,
   "metadata": {},
   "outputs": [],
   "source": [
    "#### Room for further ideas "
   ]
  },
  {
   "cell_type": "code",
   "execution_count": null,
   "metadata": {},
   "outputs": [],
   "source": []
  }
 ],
 "metadata": {
  "kernelspec": {
   "display_name": "Python 3",
   "language": "python",
   "name": "python3"
  },
  "language_info": {
   "codemirror_mode": {
    "name": "ipython",
    "version": 3
   },
   "file_extension": ".py",
   "mimetype": "text/x-python",
   "name": "python",
   "nbconvert_exporter": "python",
   "pygments_lexer": "ipython3",
   "version": "3.7.4"
  }
 },
 "nbformat": 4,
 "nbformat_minor": 2
}
